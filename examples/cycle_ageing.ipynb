{
 "cells": [
  {
   "cell_type": "code",
   "execution_count": 1,
   "metadata": {
    "scrolled": true
   },
   "outputs": [],
   "source": [
    "import pybamm as pb\n",
    "import pybamm\n",
    "import copy\n",
    "import numpy as np"
   ]
  },
  {
   "cell_type": "code",
   "execution_count": 2,
   "metadata": {},
   "outputs": [],
   "source": [
    "# ambient and initial temperature in kelvin\n",
    "TEMPERATURE = 300.0\n",
    "\n",
    "# battery type can be cylindric or prismatic\n",
    "BATTERY_TYPE = \"cylindric\"\n",
    "\n",
    "# diameter in m of the cylindric cell. Ignored when another geometry is selected\n",
    "DIAMETER = 0.02\n",
    "\n",
    "# widths in m of the prismatic cell. Ignored when another geometry is selected\n",
    "WIDTH_A = 0.02\n",
    "WIDTH_B = 0.02\n",
    "\n",
    "# height\n",
    "HEIGHT = 0.05"
   ]
  },
  {
   "cell_type": "code",
   "execution_count": 3,
   "metadata": {},
   "outputs": [],
   "source": [
    "# generator to split list into chunks\n",
    "def chunks(lst, n):\n",
    "    if not n:\n",
    "        raise Exception(\"n must be a positive integer\")\n",
    "\n",
    "    for i in range(0, len(lst), n):\n",
    "        yield lst[i:i + n]"
   ]
  },
  {
   "cell_type": "code",
   "execution_count": 4,
   "metadata": {},
   "outputs": [],
   "source": [
    "def merge_parameter_values(p_A, p_B):\n",
    "    \n",
    "    dict_a = dict(p_A)\n",
    "    dict_b = dict(p_B)\n",
    "    \n",
    "    merged_dict = copy.deepcopy(dict_a)\n",
    "    \n",
    "    for the_key, the_value in dict_b.items():\n",
    "        \n",
    "        if the_key not in merged_dict.keys():\n",
    "            \n",
    "            merged_dict.update({the_key: the_value})\n",
    "    \n",
    "    return pb.ParameterValues(merged_dict)"
   ]
  },
  {
   "cell_type": "code",
   "execution_count": 5,
   "metadata": {},
   "outputs": [],
   "source": [
    "def calc_geometry(battery_type=BATTERY_TYPE, diameter=DIAMETER, width_a=WIDTH_A, width_b=WIDTH_B, height=HEIGHT):\n",
    "    \n",
    "    if battery_type == 'cylindric':\n",
    "        \n",
    "        area = diameter**2 * np.pi / 2 + diameter * np.pi * height\n",
    "        \n",
    "        volume = diameter**2 * np.pi * height / 4\n",
    "    \n",
    "    elif battery_type == 'prismatic':\n",
    "        \n",
    "        area = 2 * (width_a * width_b + width_a * height + width_b * height)\n",
    "        \n",
    "        volume = width_a * width_b * height\n",
    "    \n",
    "    else:\n",
    "        \n",
    "        raise Exception(\"Unsupported battery type: {0}\".format(battery_type))\n",
    "    \n",
    "    return area, volume\n",
    "    "
   ]
  },
  {
   "cell_type": "code",
   "execution_count": 6,
   "metadata": {},
   "outputs": [],
   "source": [
    "area, volume = calc_geometry()"
   ]
  },
  {
   "cell_type": "code",
   "execution_count": 7,
   "metadata": {},
   "outputs": [],
   "source": [
    "# lumped with arbitrary geometry specified \n",
    "options = {\n",
    "    \"cell geometry\": \"arbitrary\",\n",
    "    \"thermal\": \"lumped\",\n",
    "    \"SEI\": \"reaction limited\",\n",
    "    \"particle\": \"Fickian diffusion\",\n",
    "    \"particle mechanics\": \"swelling and cracking\"\n",
    "}\n",
    "\n",
    "model = pybamm.lithium_ion.DFN(options)"
   ]
  },
  {
   "cell_type": "code",
   "execution_count": 8,
   "metadata": {},
   "outputs": [],
   "source": [
    "output_variables = [\n",
    "    \"Terminal voltage [V]\",\n",
    "    'Negative particle surface tangential stress [Pa]',\n",
    "    'Negative particle surface radial stress [Pa]',\n",
    "    'X-averaged negative particle surface radial stress [Pa]',\n",
    "    'X-averaged negative particle surface tangential stress [Pa]',\n",
    "    'Positive particle surface tangential stress [Pa]',\n",
    "    'Positive particle surface radial stress [Pa]',\n",
    "    'X-averaged positive particle surface radial stress [Pa]',\n",
    "    'X-averaged positive particle surface tangential stress [Pa]',\n",
    "    'Negative particle surface displacement [m]',\n",
    "    'Positive particle surface displacement [m]'\n",
    "    ]"
   ]
  },
  {
   "cell_type": "code",
   "execution_count": 9,
   "metadata": {},
   "outputs": [],
   "source": [
    "param_keys = ['Negative current collector thickness [m]',\n",
    " 'Negative electrode thickness [m]',\n",
    " 'Separator thickness [m]',\n",
    " 'Positive electrode thickness [m]',\n",
    " 'Positive current collector thickness [m]',\n",
    " 'Electrode height [m]',\n",
    " 'Electrode width [m]',\n",
    " 'Cell cooling surface area [m2]',\n",
    " 'Cell volume [m3]',\n",
    " 'Negative current collector density [kg.m-3]',\n",
    " 'Positive current collector density [kg.m-3]',\n",
    " 'Negative current collector specific heat capacity [J.kg-1.K-1]',\n",
    " 'Positive current collector specific heat capacity [J.kg-1.K-1]',\n",
    " 'Negative current collector thermal conductivity [W.m-1.K-1]',\n",
    " 'Positive current collector thermal conductivity [W.m-1.K-1]',\n",
    " 'Nominal cell capacity [A.h]',\n",
    " 'Typical current [A]',\n",
    " 'Current function [A]',\n",
    " 'Negative electrode conductivity [S.m-1]',\n",
    " 'Maximum concentration in negative electrode [mol.m-3]',\n",
    " 'Negative electrode diffusivity [m2.s-1]',\n",
    " 'Negative electrode OCP [V]',\n",
    " 'Negative electrode porosity',\n",
    " 'Negative electrode active material volume fraction',\n",
    " 'Negative particle radius [m]',\n",
    " 'Negative electrode Bruggeman coefficient (electrolyte)',\n",
    " 'Negative electrode electrons in reaction',\n",
    " 'Negative electrode exchange-current density [A.m-2]',\n",
    " 'Negative electrode density [kg.m-3]',\n",
    " 'Negative electrode specific heat capacity [J.kg-1.K-1]',\n",
    " 'Negative electrode thermal conductivity [W.m-1.K-1]',\n",
    " 'Negative electrode OCP entropic change [V.K-1]',\n",
    " 'Positive electrode conductivity [S.m-1]',\n",
    " 'Maximum concentration in positive electrode [mol.m-3]',\n",
    " 'Positive electrode diffusivity [m2.s-1]',\n",
    " 'Positive electrode OCP [V]',\n",
    " 'Positive electrode porosity',\n",
    " 'Positive electrode active material volume fraction',\n",
    " 'Positive particle radius [m]',\n",
    " 'Positive electrode Bruggeman coefficient (electrolyte)',\n",
    " 'Positive electrode electrons in reaction',\n",
    " 'Positive electrode exchange-current density [A.m-2]',\n",
    " 'Positive electrode density [kg.m-3]',\n",
    " 'Positive electrode specific heat capacity [J.kg-1.K-1]',\n",
    " 'Positive electrode thermal conductivity [W.m-1.K-1]',\n",
    " 'Positive electrode OCP entropic change [V.K-1]',\n",
    " 'Separator porosity',\n",
    " 'Separator Bruggeman coefficient (electrolyte)',\n",
    " 'Separator density [kg.m-3]',\n",
    " 'Separator specific heat capacity [J.kg-1.K-1]',\n",
    " 'Separator thermal conductivity [W.m-1.K-1]',\n",
    " 'Typical electrolyte concentration [mol.m-3]',\n",
    " 'Cation transference number',\n",
    " '1 + dlnf/dlnc',\n",
    " 'Electrolyte diffusivity [m2.s-1]',\n",
    " 'Electrolyte conductivity [S.m-1]',\n",
    " 'Reference temperature [K]',\n",
    " 'Ambient temperature [K]',\n",
    " 'Total heat transfer coefficient [W.m-2.K-1]',\n",
    " 'Number of electrodes connected in parallel to make a cell',\n",
    " 'Number of cells connected in series to make a battery',\n",
    " 'Lower voltage cut-off [V]',\n",
    " 'Upper voltage cut-off [V]',\n",
    " 'Initial concentration in negative electrode [mol.m-3]',\n",
    " 'Initial concentration in positive electrode [mol.m-3]',\n",
    " 'Initial concentration in electrolyte [mol.m-3]',\n",
    " 'Initial temperature [K]'] + ['Inner SEI partial molar volume [m3.mol-1]',\n",
    " 'Outer SEI partial molar volume [m3.mol-1]',\n",
    " 'SEI reaction exchange current density [A.m-2]',\n",
    " 'SEI resistivity [Ohm.m]',\n",
    " 'Initial inner SEI thickness [m]',\n",
    " 'Initial outer SEI thickness [m]']"
   ]
  },
  {
   "cell_type": "code",
   "execution_count": 10,
   "metadata": {},
   "outputs": [],
   "source": [
    "parameter_values_dict = dict(pybamm.ParameterValues(chemistry=pybamm.parameter_sets.Marquis2019))\n",
    "\n",
    "required_parameter_values_dict = {}\n",
    "\n",
    "for elem in parameter_values_dict.keys():\n",
    "    \n",
    "    if elem in param_keys:\n",
    "        \n",
    "        required_parameter_values_dict.update({elem: parameter_values_dict[elem]})\n",
    "\n",
    "# assert len(required_parameter_values_dict) == len(param_keys)\n",
    "\n",
    "parameter_values = pb.ParameterValues(required_parameter_values_dict)\n",
    "\n",
    "ai_params = pb.ParameterValues(chemistry=pb.parameter_sets.Ai2020)\n",
    "\n",
    "additional_parameter_values_dict = {\n",
    "    'Negative electrode cracking rate': ai_params['Negative electrode cracking rate'],\n",
    "    'Negative electrode activation energy for cracking rate [J.mol-1]': ai_params['Negative electrode activation energy for cracking rate [J.mol-1]'],\n",
    "    \"Negative electrode Young's modulus [Pa]\": ai_params[\"Negative electrode Young's modulus [Pa]\"],\n",
    "    \"Negative electrode Paris' law constant m\": ai_params[\"Negative electrode Paris' law constant m\"],\n",
    "    \"Negative electrode initial crack length [m]\": ai_params[\"Negative electrode initial crack length [m]\"],\n",
    "    \"Negative electrode partial molar volume [m3.mol-1]\": ai_params[\"Negative electrode partial molar volume [m3.mol-1]\"],\n",
    "    \"Negative electrode Poisson's ratio\": ai_params[\"Negative electrode Poisson's ratio\"],\n",
    "    \"Negative electrode Paris' law constant b\": ai_params[\"Negative electrode Paris' law constant b\"],\n",
    "    'Positive electrode cracking rate': ai_params['Positive electrode cracking rate'],\n",
    "    'Positive electrode activation energy for cracking rate [J.mol-1]': ai_params['Positive electrode activation energy for cracking rate [J.mol-1]'],\n",
    "    \"Positive electrode Young's modulus [Pa]\": ai_params[\"Positive electrode Young's modulus [Pa]\"],\n",
    "    \"Positive electrode Paris' law constant m\": ai_params[\"Positive electrode Paris' law constant m\"],\n",
    "    \"Positive electrode initial crack length [m]\": ai_params[\"Positive electrode initial crack length [m]\"],\n",
    "    \"Positive electrode partial molar volume [m3.mol-1]\": ai_params[\"Positive electrode partial molar volume [m3.mol-1]\"],\n",
    "    \"Positive electrode Poisson's ratio\": ai_params[\"Positive electrode Poisson's ratio\"],\n",
    "    \"Positive electrode Paris' law constant b\": ai_params[\"Positive electrode Paris' law constant b\"],\n",
    "    'Negative electrode reference concentration for free of deformation [mol.m-3]': ai_params['Negative electrode reference concentration for free of deformation [mol.m-3]'],\n",
    "    'Positive electrode reference concentration for free of deformation [mol.m-3]': ai_params['Negative electrode reference concentration for free of deformation [mol.m-3]'],\n",
    "    'Negative electrode number of cracks per unit area [m-2]': ai_params['Negative electrode number of cracks per unit area [m-2]'],\n",
    "    'Positive electrode number of cracks per unit area [m-2]': ai_params['Positive electrode number of cracks per unit area [m-2]'],\n",
    "    'Negative electrode initial crack width [m]': ai_params['Negative electrode initial crack width [m]'],\n",
    "    'Positive electrode initial crack width [m]': ai_params['Positive electrode initial crack width [m]'],\n",
    "    'Cell thermal expansion coefficient [m.K-1]': ai_params['Cell thermal expansion coefficient [m.K-1]'],\n",
    "    'Negative electrode volume change': \"[data]../test_data/graphite_volume_change_Ai2020\",\n",
    "#     'Negative electrode volume change': ai_params['Negative electrode volume change'],\n",
    "    'Positive electrode volume change': ai_params['Positive electrode volume change']\n",
    "}\n",
    "\n",
    "additional_parameter_values = pb.ParameterValues(additional_parameter_values_dict)\n",
    "\n",
    "parameter_values = merge_parameter_values(additional_parameter_values, parameter_values)\n",
    "\n",
    "parameter_values['Positive electrode diffusivity [m2.s-1]'] = \"[2D data]../test_data/lico2_diffusivity_Dualfoil1998_2D\"\n",
    "# parameter_values['Positive electrode OCP [V]'] = \"[ml data]lico2_diffusivity_Dualfoil1998\""
   ]
  },
  {
   "cell_type": "code",
   "execution_count": 11,
   "metadata": {},
   "outputs": [],
   "source": [
    "parameter_values[\"Initial temperature [K]\"] = TEMPERATURE\n",
    "parameter_values[\"Ambient temperature [K]\"] = TEMPERATURE\n",
    "parameter_values[\"Cell cooling surface area [m2]\"] = area\n",
    "parameter_values[\"Cell volume [m3]\"] = volume"
   ]
  },
  {
   "cell_type": "code",
   "execution_count": 12,
   "metadata": {},
   "outputs": [],
   "source": [
    "experiment = pb.Experiment(\n",
    "    [\n",
    "        (\n",
    "            \"Charge at C/10 until 4.05 V\",\n",
    "            \"Hold at 4.05 V until C/10\",\n",
    "            \"Rest for 5 minutes\",\n",
    "            \"Discharge at 1 C until 3.3 V\",\n",
    "            \"Rest for 5 minutes\",\n",
    "        )\n",
    "    ]\n",
    "    * 2\n",
    "    + [\n",
    "        (\n",
    "            \"Charge at 1 C until 4.05 V\",\n",
    "            \"Hold at 4.05 V until C/20\",\n",
    "            \"Rest for 30 minutes\",\n",
    "            \"Discharge at C/3 until 3.3 V\",\n",
    "            \"Rest for 30 minutes\",\n",
    "        ),\n",
    "        (\n",
    "            \"Charge at 1 C until 4.05 V\",\n",
    "            \"Hold at 4.05 V until C/20\",\n",
    "            \"Rest for 30 minutes\",\n",
    "            \"Discharge at 1 C until 3.3 V\",\n",
    "            \"Rest for 30 minutes\",\n",
    "        ),\n",
    "        (\n",
    "            \"Charge at 1 C until 4.05 V\",\n",
    "            \"Hold at 4.05 V until C/20\",\n",
    "            \"Rest for 30 minutes\",\n",
    "            \"Discharge at 2 C until 3.3 V\",\n",
    "            \"Rest for 30 minutes\",\n",
    "        ),\n",
    "        (\n",
    "            \"Charge at 1 C until 4.05 V\",\n",
    "            \"Hold at 4.05 V until C/20\",\n",
    "            \"Rest for 30 minutes\",\n",
    "            \"Discharge at 3 C until 3.3 V (10 second period)\",\n",
    "            \"Rest for 30 minutes\",\n",
    "        ),\n",
    "    ]\n",
    ")"
   ]
  },
  {
   "cell_type": "code",
   "execution_count": 13,
   "metadata": {},
   "outputs": [
    {
     "data": {
      "text/plain": [
       "<pybamm.solvers.solution.Solution at 0x22808894f40>"
      ]
     },
     "execution_count": 13,
     "metadata": {},
     "output_type": "execute_result"
    }
   ],
   "source": [
    "# pick solver \n",
    "solver = pybamm.CasadiSolver(mode=\"safe\")\n",
    "\n",
    "sim = pb.Simulation(model, parameter_values=parameter_values, experiment=experiment, solver=solver)\n",
    "\n",
    "sim.solve()"
   ]
  },
  {
   "cell_type": "code",
   "execution_count": 14,
   "metadata": {},
   "outputs": [
    {
     "data": {
      "application/vnd.jupyter.widget-view+json": {
       "model_id": "4079246251d04dc0991cc92a035161d2",
       "version_major": 2,
       "version_minor": 0
      },
      "text/plain": [
       "interactive(children=(FloatSlider(value=0.0, description='t', max=31.892183285903293, step=0.3189218328590329)…"
      ]
     },
     "metadata": {},
     "output_type": "display_data"
    },
    {
     "data": {
      "application/vnd.jupyter.widget-view+json": {
       "model_id": "d03cc6f516dc457786490ddf8d305b23",
       "version_major": 2,
       "version_minor": 0
      },
      "text/plain": [
       "interactive(children=(FloatSlider(value=0.0, description='t', max=31.892183285903293, step=0.3189218328590329)…"
      ]
     },
     "metadata": {},
     "output_type": "display_data"
    }
   ],
   "source": [
    "for temp_vars in chunks(output_variables, 6):\n",
    "    sim.plot(temp_vars, n_rows=3, figsize=(8, 12))"
   ]
  },
  {
   "cell_type": "code",
   "execution_count": null,
   "metadata": {},
   "outputs": [],
   "source": []
  }
 ],
 "metadata": {
  "kernelspec": {
   "display_name": "Python 3 (ipykernel)",
   "language": "python",
   "name": "python3"
  },
  "language_info": {
   "codemirror_mode": {
    "name": "ipython",
    "version": 3
   },
   "file_extension": ".py",
   "mimetype": "text/x-python",
   "name": "python",
   "nbconvert_exporter": "python",
   "pygments_lexer": "ipython3",
   "version": "3.9.9"
  }
 },
 "nbformat": 4,
 "nbformat_minor": 4
}
